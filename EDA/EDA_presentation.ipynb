{
 "cells": [
  {
   "cell_type": "markdown",
   "id": "84e259d3",
   "metadata": {},
   "source": [
    "## After the Exploration of terrorism data in EDA.ipynb now we analyze and present"
   ]
  },
  {
   "cell_type": "markdown",
   "id": "b870bb55",
   "metadata": {},
   "source": []
  }
 ],
 "metadata": {
  "language_info": {
   "name": "python"
  }
 },
 "nbformat": 4,
 "nbformat_minor": 5
}
